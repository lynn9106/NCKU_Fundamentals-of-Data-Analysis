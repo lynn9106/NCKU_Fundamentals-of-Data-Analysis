{
  "cells": [
    {
      "attachments": {},
      "cell_type": "markdown",
      "metadata": {
        "id": "1jgrb5ErQh0f"
      },
      "source": [
        "# HW4: Paraphrase Identification "
      ]
    },
    {
      "attachments": {},
      "cell_type": "markdown",
      "metadata": {
        "id": "p5IUsH2fQh0h"
      },
      "source": [
        "## HW4 Delivery policies\n",
        "|Rules | Punishment (If you do not follow the rule) | Note |\n",
        "|-|-|-|\n",
        "| Name the folder as `FDA_HW4_F12345678` and zip it | -5| |\n",
        "| Include `requirements.txt` in the folder | -5 | |\n",
        "| Use HuggingFace `dataset` and `trainer` for HW4 | -5 | |\n",
        "| Results can be reproduced | -10 | We will run your code! |\n",
        "| Include the best model checkpoint in your zipped folder | -10 |  |\n",
        "| Note the approximate running time | -5 |  |\n",
        "| Note the GPU card(s) you use | -5 |  |\n",
        "| Do not use ChatGPT to predict the answers directly | -20 | You can use ChatGPT to help coding work. |\n",
        "| Do not use models not from HuggingFace | -20 |  |\n",
        "| Do not copy and paste the code from your classmates | -20 | You should finish your own work. |"
      ]
    },
    {
      "attachments": {},
      "cell_type": "markdown",
      "metadata": {
        "id": "aqSIpWjBQh0h"
      },
      "source": [
        "## HW4 Scoring rules\n",
        "|Rules | Scores|\n",
        "|-|-|\n",
        "| Finish the six `# TODO`s (each for +10)  | +60  |\n",
        "| Introduce the model or methods you use in Markdown | +20 |\n",
        "| Accuracy on the Test set >= 0.8 | +20 |\n",
        "| Accuracy on the Test set >= 0.85 | +10 |\n",
        "\n",
        "* Note: Accuracy on the Test set **needs to be shown in the input of the final cell.** Please DO NOT MODIFY the final cell. \n"
      ]
    },
    {
      "attachments": {},
      "cell_type": "markdown",
      "metadata": {
        "id": "dzV-CnOzQh0h"
      },
      "source": [
        "## Submitted Folder Structure Example\n",
        "- After unzipping, your folder should look like this (in this example, student_id is F12345678)\n",
        "- `best.ckpt` is your best model checkpoint. TAs will run your code using this checkpoint. \n",
        "- If you use any other extra files, please include it in the folder. \n",
        "```\n",
        ".\n",
        "└── FDA_HW4_F12345678/\n",
        "    ├── FDA2023_HW4_ans.ipynb\n",
        "    ├── requirements.txt\n",
        "    └── best.ckpt \n",
        "```"
      ]
    },
    {
      "cell_type": "code",
      "execution_count": 1,
      "metadata": {
        "colab": {
          "base_uri": "https://localhost:8080/"
        },
        "id": "LVfvEfSnRAiG",
        "outputId": "2b34447e-cda0-463d-f705-a1b50b0c3be8"
      },
      "outputs": [],
      "source": [
        "# Uncomment in Collab\n",
        "# %pip install -r requirements.txt"
      ]
    },
    {
      "cell_type": "code",
      "execution_count": 2,
      "metadata": {
        "id": "26SbwOqRQh0i"
      },
      "outputs": [],
      "source": [
        "import os\n",
        "os.environ[\"CUDA_VISIBLE_DEVICES\"]=\"0\"\n",
        "\n",
        "from pathlib import Path\n",
        "from datetime import datetime\n",
        "import json\n",
        "import pandas as pd\n",
        "import numpy as np\n",
        "import jieba\n",
        "import matplotlib.pyplot as plt\n",
        "import seaborn as sns\n",
        "from sklearn.metrics import accuracy_score\n",
        "import torch\n",
        "##### HuggingFace libraries #####\n",
        "from datasets import Dataset\n",
        "from transformers import (\n",
        "    AutoTokenizer,\n",
        "    AutoModelForSequenceClassification,\n",
        "    Trainer,\n",
        "    TrainingArguments,\n",
        "    DataCollatorWithPadding\n",
        ")\n",
        "##### HuggingFace libraries #####"
      ]
    },
    {
      "cell_type": "code",
      "execution_count": 3,
      "metadata": {
        "colab": {
          "base_uri": "https://localhost:8080/"
        },
        "id": "xC0fhCxzQh0i",
        "outputId": "3b076476-0d98-4daf-8482-46f0eedad86c"
      },
      "outputs": [],
      "source": [
        "# Uncomment the following lines to download the dataset\n",
        "#!wget https://storage.googleapis.com/paws/pawsx/x-final.tar.gz\n",
        "#!tar zxvf x-final.tar.gz"
      ]
    },
    {
      "cell_type": "code",
      "execution_count": 4,
      "metadata": {
        "colab": {
          "base_uri": "https://localhost:8080/"
        },
        "id": "AF_QOW7NQh0j",
        "outputId": "917539dc-d56c-442f-f11f-2bb1f8dac0d2"
      },
      "outputs": [
        {
          "name": "stdout",
          "output_type": "stream",
          "text": [
            "train\n",
            "train: x-final\\zh\\translated_train.tsv\n",
            "dev\n",
            "dev: x-final\\zh\\dev_2k.tsv\n",
            "test\n",
            "test: x-final\\zh\\test_2k.tsv\n"
          ]
        }
      ],
      "source": [
        "data_dir = Path(\"x-final/zh\")\n",
        "data_files = list(data_dir.glob(\"*.tsv\"))\n",
        "data_dict = {}\n",
        "\n",
        "for split in [\"train\", \"dev\", \"test\"]:\n",
        "    print(split)\n",
        "    for filename in data_files:\n",
        "        if split in str(filename):\n",
        "            print(f\"{split}: {filename}\")\n",
        "            df = pd.read_csv(filename, sep=\"\\t\")\n",
        "            df_without_nan = df.dropna()\n",
        "            data_dict[split] = df_without_nan\n",
        "            break"
      ]
    },
    {
      "attachments": {},
      "cell_type": "markdown",
      "metadata": {
        "id": "1t3VS7gWQh0j"
      },
      "source": [
        "## Explore the mean length of sentences in the dataset\n",
        "### # TODO1: Plot and show the following figure\n",
        "- Hint: Get the length of each sentence with jieba first.\n",
        "\n",
        "<div>\n",
        "<img src='https://drive.google.com/uc?export=view&id=1FjkMnxHuW8FFAhzh6Xlpzqf_b-6_33Bj' width=\"900\"/>\n",
        "</div>"
      ]
    },
    {
      "cell_type": "code",
      "execution_count": 5,
      "metadata": {
        "colab": {
          "base_uri": "https://localhost:8080/",
          "height": 1000
        },
        "id": "Yh0pHGOMQh0j",
        "outputId": "826fc5ea-b75d-449e-cb39-9177111a2273"
      },
      "outputs": [
        {
          "name": "stderr",
          "output_type": "stream",
          "text": [
            "Building prefix dict from the default dictionary ...\n",
            "Loading model from cache C:\\Users\\Tim\\AppData\\Local\\Temp\\jieba.cache\n",
            "Loading model cost 0.318 seconds.\n",
            "Prefix dict has been built successfully.\n",
            "C:\\Users\\Tim\\AppData\\Local\\Temp\\ipykernel_19080\\3326094718.py:15: UserWarning: \n",
            "\n",
            "`distplot` is a deprecated function and will be removed in seaborn v0.14.0.\n",
            "\n",
            "Please adapt your code to use either `displot` (a figure-level function with\n",
            "similar flexibility) or `histplot` (an axes-level function for histograms).\n",
            "\n",
            "For a guide to updating your code to use the new functions, please see\n",
            "https://gist.github.com/mwaskom/de44147ed2974457ad6372750bbe5751\n",
            "\n",
            "  sns.distplot(train_lengths, kde=True, label=\"train\", hist_kws={'edgecolor':'none'}, ax=ax[0])\n",
            "C:\\Users\\Tim\\AppData\\Local\\Temp\\ipykernel_19080\\3326094718.py:16: UserWarning: \n",
            "\n",
            "`distplot` is a deprecated function and will be removed in seaborn v0.14.0.\n",
            "\n",
            "Please adapt your code to use either `displot` (a figure-level function with\n",
            "similar flexibility) or `histplot` (an axes-level function for histograms).\n",
            "\n",
            "For a guide to updating your code to use the new functions, please see\n",
            "https://gist.github.com/mwaskom/de44147ed2974457ad6372750bbe5751\n",
            "\n",
            "  sns.distplot(dev_lengths, kde=True, label=\"dev\", hist_kws={'edgecolor':'none'}, ax=ax[0])\n",
            "C:\\Users\\Tim\\AppData\\Local\\Temp\\ipykernel_19080\\3326094718.py:17: UserWarning: \n",
            "\n",
            "`distplot` is a deprecated function and will be removed in seaborn v0.14.0.\n",
            "\n",
            "Please adapt your code to use either `displot` (a figure-level function with\n",
            "similar flexibility) or `histplot` (an axes-level function for histograms).\n",
            "\n",
            "For a guide to updating your code to use the new functions, please see\n",
            "https://gist.github.com/mwaskom/de44147ed2974457ad6372750bbe5751\n",
            "\n",
            "  sns.distplot(test_lengths, kde=True, label=\"test\", hist_kws={'edgecolor':'none'}, ax=ax[0])\n",
            "C:\\Users\\Tim\\AppData\\Local\\Temp\\ipykernel_19080\\3326094718.py:23: UserWarning: \n",
            "\n",
            "`distplot` is a deprecated function and will be removed in seaborn v0.14.0.\n",
            "\n",
            "Please adapt your code to use either `displot` (a figure-level function with\n",
            "similar flexibility) or `histplot` (an axes-level function for histograms).\n",
            "\n",
            "For a guide to updating your code to use the new functions, please see\n",
            "https://gist.github.com/mwaskom/de44147ed2974457ad6372750bbe5751\n",
            "\n",
            "  sns.distplot(train_lengths2, kde=True, label=\"train\", hist_kws={'edgecolor':'none'}, ax=ax[1])\n",
            "C:\\Users\\Tim\\AppData\\Local\\Temp\\ipykernel_19080\\3326094718.py:24: UserWarning: \n",
            "\n",
            "`distplot` is a deprecated function and will be removed in seaborn v0.14.0.\n",
            "\n",
            "Please adapt your code to use either `displot` (a figure-level function with\n",
            "similar flexibility) or `histplot` (an axes-level function for histograms).\n",
            "\n",
            "For a guide to updating your code to use the new functions, please see\n",
            "https://gist.github.com/mwaskom/de44147ed2974457ad6372750bbe5751\n",
            "\n",
            "  sns.distplot(dev_lengths2, kde=True, label=\"dev\", hist_kws={'edgecolor':'none'}, ax=ax[1])\n",
            "C:\\Users\\Tim\\AppData\\Local\\Temp\\ipykernel_19080\\3326094718.py:25: UserWarning: \n",
            "\n",
            "`distplot` is a deprecated function and will be removed in seaborn v0.14.0.\n",
            "\n",
            "Please adapt your code to use either `displot` (a figure-level function with\n",
            "similar flexibility) or `histplot` (an axes-level function for histograms).\n",
            "\n",
            "For a guide to updating your code to use the new functions, please see\n",
            "https://gist.github.com/mwaskom/de44147ed2974457ad6372750bbe5751\n",
            "\n",
            "  sns.distplot(test_lengths2, kde=True, label=\"test\", hist_kws={'edgecolor':'none'}, ax=ax[1])\n"
          ]
        },
        {
          "data": {
            "image/png": "[encoded data removed]",
            "text/plain": [
              "<Figure size 1000x500 with 2 Axes>"
            ]
          },
          "metadata": {},
          "output_type": "display_data"
        }
      ],
      "source": [
        "def get_token_length(sentence: str) -> int:\n",
        "    tokens = jieba.lcut(sentence)\n",
        "    return len(tokens)\n",
        "\n",
        "# Code here for the TODO1\n",
        "# Token Length Visualization\n",
        "train_lengths = data_dict[\"train\"][\"sentence1\"].apply(get_token_length)\n",
        "dev_lengths = data_dict[\"dev\"][\"sentence1\"].apply(get_token_length)\n",
        "test_lengths = data_dict[\"test\"][\"sentence1\"].apply(get_token_length)\n",
        "train_lengths2 = data_dict[\"train\"][\"sentence2\"].apply(get_token_length)\n",
        "dev_lengths2 = data_dict[\"dev\"][\"sentence2\"].apply(get_token_length)\n",
        "test_lengths2 = data_dict[\"test\"][\"sentence2\"].apply(get_token_length)\n",
        "\n",
        "fig, ax = plt.subplots(1, 2, figsize=(10,5))\n",
        "sns.distplot(train_lengths, kde=True, label=\"train\", hist_kws={'edgecolor':'none'}, ax=ax[0])\n",
        "sns.distplot(dev_lengths, kde=True, label=\"dev\", hist_kws={'edgecolor':'none'}, ax=ax[0])\n",
        "sns.distplot(test_lengths, kde=True, label=\"test\", hist_kws={'edgecolor':'none'}, ax=ax[0])\n",
        "ax[0].set_xlabel(\"Length\")\n",
        "ax[0].set_ylabel(\"Frequency\")\n",
        "ax[0].set_title(\"Mean length distribution for Sentence 1\")\n",
        "ax[0].legend()\n",
        "\n",
        "sns.distplot(train_lengths2, kde=True, label=\"train\", hist_kws={'edgecolor':'none'}, ax=ax[1])\n",
        "sns.distplot(dev_lengths2, kde=True, label=\"dev\", hist_kws={'edgecolor':'none'}, ax=ax[1])\n",
        "sns.distplot(test_lengths2, kde=True, label=\"test\", hist_kws={'edgecolor':'none'}, ax=ax[1])\n",
        "ax[1].set_xlabel(\"Length\")\n",
        "ax[1].set_ylabel(\"Frequency\")\n",
        "ax[1].set_title(\"Mean length distribution for Sentence 2\")\n",
        "ax[1].legend()\n",
        "\n",
        "plt.tight_layout()\n",
        "plt.show()"
      ]
    },
    {
      "cell_type": "code",
      "execution_count": 6,
      "metadata": {
        "id": "1QyfIlqhQh0j"
      },
      "outputs": [],
      "source": [
        "# Transform the data into HuggingFace Dataset format\n",
        "\n",
        "trainset = Dataset.from_pandas(data_dict[\"train\"])\n",
        "devset = Dataset.from_pandas(data_dict[\"dev\"])\n",
        "testset = Dataset.from_pandas(data_dict[\"test\"])\n",
        "\n",
        "device = 'cuda' if torch.cuda.is_available() else 'cpu'"
      ]
    },
    {
      "cell_type": "code",
      "execution_count": 7,
      "metadata": {
        "colab": {
          "base_uri": "https://localhost:8080/"
        },
        "id": "tsm1hhgEQh0j",
        "outputId": "5a22e5df-aaf9-4663-c349-415db55b5e3e"
      },
      "outputs": [
        {
          "name": "stdout",
          "output_type": "stream",
          "text": [
            "EXP_NAME: 0610-184025_text2vec-large-chinese_lr2e-05\n"
          ]
        }
      ],
      "source": [
        "configs = {\n",
        "    \"seed\": 42,\n",
        "    \"lr\": 2e-5,\n",
        "    \"train_batch_size\": 64,\n",
        "    \"test_batch_size\": 256,\n",
        "    \"num_epochs\": 2,\n",
        "    \"gradient_accumulation_steps\": 1,\n",
        "    \"weight_decay\": 0.01,\n",
        "    \"warmup_ratio\": 0.1,\n",
        "    \"output_dir\": \"outputs\",\n",
        "    \"model_name\": \"GanymedeNil/text2vec-large-chinese\" # TODO2: choose a model from https://huggingface.co/models ,\n",
        "}\n",
        "current_time = datetime.now().strftime(\"%m%d-%H%M%S\")\n",
        "brief_model_name = configs[\"model_name\"].split(\"/\")[-1]\n",
        "EXP_NAME = f\"{current_time}_{brief_model_name}_lr{configs['lr']}\"\n",
        "\n",
        "print(\"EXP_NAME:\", EXP_NAME)\n",
        "\n",
        "# Save the configs\n",
        "config_dir = Path(f\"{configs['output_dir']}/runs/{EXP_NAME}\")\n",
        "config_dir.mkdir(parents=True)\n",
        "with open(f\"{config_dir}/configs.json\", 'w') as f:\n",
        "    dict_of_params = {k: v for k, v in configs.items()}\n",
        "    json.dump(dict_of_params, f, indent=4)"
      ]
    },
    {
      "cell_type": "code",
      "execution_count": 8,
      "metadata": {
        "colab": {
          "base_uri": "https://localhost:8080/"
        },
        "id": "rOcCBJ81Qh0j",
        "outputId": "27fb391e-fc4f-4829-a429-0aae56c9acfe"
      },
      "outputs": [],
      "source": [
        "tokenizer = AutoTokenizer.from_pretrained(configs[\"model_name\"])\n",
        "\n",
        "def preprocess_function(examples):\n",
        "    return tokenizer(\n",
        "        examples[\"sentence1\"],\n",
        "        examples[\"sentence2\"],\n",
        "        padding=True,\n",
        "    )"
      ]
    },
    {
      "cell_type": "code",
      "execution_count": 9,
      "metadata": {
        "colab": {
          "base_uri": "https://localhost:8080/",
          "height": 17,
          "referenced_widgets": [
            "f6b08f8573b24e02b04e506a3da46279",
            "e71e9e3867f84506901f435a9b0c6f27",
            "364a74c2a9c74eae89932ae01b624598",
            "5b5b5c052d07433b84968ebe21954b59",
            "9b2a00eb1d7c4f27b909ea60923db8d1",
            "2f433a5f28c04b348e7311121e0bb889",
            "09edbb79da984b808ce0529453ebb5cd",
            "00b136fcb9be4d04a546d95796829b81",
            "d18341a34daa47b7b8d311aa41a0c200",
            "a2446a1a138f4ca2a393e94b9dea79d2",
            "199cfd8f29114629892887a9b1abbce2",
            "1153dd7896c34b99b2162932ef8fb5cf",
            "112e6ece0a6644528061c39081ecb765",
            "dc103e368f934fbfb25c0a02b90ceea1",
            "158126b8743a4a92a7f5a35465822630",
            "e76084e871de430a8c1b30fd78eddf1f",
            "23af28fdbfd6437097c62111421dc4b5",
            "226b11b154c74467bac3ea2de45df9bb",
            "2efa2cc239dd4a3b9b047b75fb73b6a8",
            "abd8ae9dab3f4912b02d64d588504912",
            "4fd653610803469b800c04f336ac16ac",
            "cf4d25198da04bc5b0861ff1f97bfc1f",
            "bdf67aef1d1241c780bf7a7bf8bab24d",
            "b0e57bd2543641a9a1e2cdaffffc82be",
            "2eff09a96076429ea2f3ed2f65de8b97",
            "c01639fa32de49b7aa062981d2bea6da",
            "69ed3fcc31c6432f9ee6cff9dac28980",
            "495170e84939428b925f4d1a2f803b63",
            "d1bcc5d94d034f1b8adbd5df889f3982",
            "9855904d5ac9421fb5b0c94926f13ca3",
            "9b0e78cae01347a6b50eebee519cac60",
            "31dd4845963748c68e73bb90dfb81323",
            "10ee2ef295c5478db48b40d8d82aedda"
          ]
        },
        "id": "jh__dwiRQh0k",
        "outputId": "a94c4d0c-c5f6-44fd-fdb1-ed2c6cf91dca"
      },
      "outputs": [
        {
          "data": {
            "application/vnd.jupyter.widget-view+json": {
              "model_id": "2394addff27549ed8b642c0fcd951587",
              "version_major": 2,
              "version_minor": 0
            },
            "text/plain": [
              "Map:   0%|          | 0/49129 [00:00<?, ? examples/s]"
            ]
          },
          "metadata": {},
          "output_type": "display_data"
        },
        {
          "data": {
            "application/vnd.jupyter.widget-view+json": {
              "model_id": "73a9782cdb9e469d8863b9c30e88f457",
              "version_major": 2,
              "version_minor": 0
            },
            "text/plain": [
              "Map:   0%|          | 0/2000 [00:00<?, ? examples/s]"
            ]
          },
          "metadata": {},
          "output_type": "display_data"
        },
        {
          "data": {
            "application/vnd.jupyter.widget-view+json": {
              "model_id": "3f885af51bf74247a684060c21f597ce",
              "version_major": 2,
              "version_minor": 0
            },
            "text/plain": [
              "Map:   0%|          | 0/2000 [00:00<?, ? examples/s]"
            ]
          },
          "metadata": {},
          "output_type": "display_data"
        }
      ],
      "source": [
        "# Tokenize the dataset. Use `batched=True` for faster processing.\n",
        "\n",
        "tokenized_train = trainset.map(preprocess_function, batched=True)# TODO3: Tokenize the trainset\n",
        "tokenized_devset = devset.map(preprocess_function, batched=True)# TODO3: Tokenize the devset\n",
        "tokenized_testset = testset.map(preprocess_function, batched=True)# TODO3: Tokenize the testset"
      ]
    },
    {
      "cell_type": "code",
      "execution_count": 10,
      "metadata": {
        "id": "Cg6-N37yQh0k"
      },
      "outputs": [],
      "source": [
        "# Use `DataCollatorWithPadding` to pad the sentences to the maximum length in a batch\n",
        "# Or you will pad the sentences to the maximum length in the whole dataset\n",
        "\n",
        "data_collator = DataCollatorWithPadding(tokenizer=tokenizer)"
      ]
    },
    {
      "cell_type": "code",
      "execution_count": 11,
      "metadata": {
        "colab": {
          "base_uri": "https://localhost:8080/"
        },
        "id": "0sxwPKHIQh0k",
        "outputId": "54d08b60-6a8b-429c-8353-5a94ca46c76e"
      },
      "outputs": [
        {
          "name": "stderr",
          "output_type": "stream",
          "text": [
            "Some weights of BertForSequenceClassification were not initialized from the model checkpoint at GanymedeNil/text2vec-large-chinese and are newly initialized: ['classifier.weight', 'classifier.bias']\n",
            "You should probably TRAIN this model on a down-stream task to be able to use it for predictions and inference.\n"
          ]
        }
      ],
      "source": [
        "model = AutoModelForSequenceClassification.from_pretrained(\n",
        "    configs[\"model_name\"], num_labels=2\n",
        ")"
      ]
    },
    {
      "cell_type": "code",
      "execution_count": 12,
      "metadata": {
        "colab": {
          "base_uri": "https://localhost:8080/"
        },
        "id": "HHiY-SVHQh0k",
        "outputId": "e4715745-8d9e-429c-dff9-2bf7c3e5555c"
      },
      "outputs": [],
      "source": [
        "training_args = TrainingArguments(\n",
        "    seed=configs[\"seed\"],\n",
        "    # TODO4: Set up your training arguments\n",
        "    learning_rate=configs[\"lr\"],\n",
        "    per_device_train_batch_size=configs[\"train_batch_size\"],\n",
        "    per_device_eval_batch_size=configs[\"test_batch_size\"],\n",
        "    num_train_epochs=configs[\"num_epochs\"],\n",
        "    gradient_accumulation_steps=configs[\"gradient_accumulation_steps\"],\n",
        "    weight_decay=configs[\"weight_decay\"],\n",
        "    warmup_ratio=configs[\"warmup_ratio\"],\n",
        "    output_dir=configs[\"output_dir\"],\n",
        "    # Hint: Put your configs here\n",
        "    # Hint: You can add more arguments via https://huggingface.co/transformers/main_classes/trainer.html#trainingarguments\n",
        "    # # The remaining arguments in the following lines are adjustable for your use.\n",
        "    evaluation_strategy=\"steps\",\n",
        "    save_strategy=\"steps\",\n",
        "    logging_steps=100,\n",
        "    logging_dir=f\"{configs['output_dir']}/runs/{EXP_NAME}\",\n",
        "    save_steps=500,\n",
        "    load_best_model_at_end=True,\n",
        "    metric_for_best_model=\"eval_loss\",\n",
        "    push_to_hub=False,\n",
        "    report_to=\"tensorboard\",\n",
        ")"
      ]
    },
    {
      "cell_type": "code",
      "execution_count": 13,
      "metadata": {
        "id": "Tmq9vcsaQh0k"
      },
      "outputs": [],
      "source": [
        "def compute_metrics(eval_pred):\n",
        "    predictions, labels = eval_pred\n",
        "    predictions = np.argmax(predictions, axis=1)# TODO5: Transform the logits to predictions\n",
        "    return {\"Acc\": accuracy_score(y_true=labels, y_pred=predictions)}"
      ]
    },
    {
      "cell_type": "code",
      "execution_count": 14,
      "metadata": {
        "id": "ZVmAL9bPQh0k"
      },
      "outputs": [],
      "source": [
        "trainer = Trainer(\n",
        "    model=model,\n",
        "    args=training_args,\n",
        "    train_dataset=tokenized_train.shuffle(seed=configs[\"seed\"]),\n",
        "    eval_dataset=tokenized_devset,\n",
        "    tokenizer=tokenizer,\n",
        "    data_collator=data_collator,\n",
        "    compute_metrics=compute_metrics,\n",
        ")"
      ]
    },
    {
      "cell_type": "code",
      "execution_count": 15,
      "metadata": {
        "colab": {
          "base_uri": "https://localhost:8080/"
        },
        "id": "hvgmJQXnQh0k",
        "outputId": "4a88b2ac-0032-479b-f468-307247cba5c6"
      },
      "outputs": [
        {
          "name": "stderr",
          "output_type": "stream",
          "text": [
            "c:\\Users\\Tim\\anaconda3\\envs\\hw4\\lib\\site-packages\\transformers\\optimization.py:391: FutureWarning: This implementation of AdamW is deprecated and will be removed in a future version. Use the PyTorch implementation torch.optim.AdamW instead, or set `no_deprecation_warning=True` to disable this warning\n",
            "  warnings.warn(\n"
          ]
        },
        {
          "data": {
            "application/vnd.jupyter.widget-view+json": {
              "model_id": "1687e51c0bbc47799648b6a0a499a723",
              "version_major": 2,
              "version_minor": 0
            },
            "text/plain": [
              "  0%|          | 0/1536 [00:00<?, ?it/s]"
            ]
          },
          "metadata": {},
          "output_type": "display_data"
        },
        {
          "name": "stderr",
          "output_type": "stream",
          "text": [
            "You're using a BertTokenizerFast tokenizer. Please note that with a fast tokenizer, using the `__call__` method is faster than using a method to encode the text followed by a call to the `pad` method to get a padded encoding.\n"
          ]
        },
        {
          "name": "stdout",
          "output_type": "stream",
          "text": [
            "{'loss': 0.6951, 'learning_rate': 1.2987012987012988e-05, 'epoch': 0.13}\n"
          ]
        },
        {
          "data": {
            "application/vnd.jupyter.widget-view+json": {
              "model_id": "ccb58073164d4b0b8df1d565f9694de8",
              "version_major": 2,
              "version_minor": 0
            },
            "text/plain": [
              "  0%|          | 0/8 [00:00<?, ?it/s]"
            ]
          },
          "metadata": {},
          "output_type": "display_data"
        },
        {
          "name": "stdout",
          "output_type": "stream",
          "text": [
            "{'eval_loss': 0.6776392459869385, 'eval_Acc': 0.579, 'eval_runtime': 228.1139, 'eval_samples_per_second': 8.768, 'eval_steps_per_second': 0.035, 'epoch': 0.13}\n",
            "{'loss': 0.64, 'learning_rate': 1.9334298118668598e-05, 'epoch': 0.26}\n"
          ]
        },
        {
          "data": {
            "application/vnd.jupyter.widget-view+json": {
              "model_id": "1c2860a3d5fc404f9abad3c38b5933f8",
              "version_major": 2,
              "version_minor": 0
            },
            "text/plain": [
              "  0%|          | 0/8 [00:00<?, ?it/s]"
            ]
          },
          "metadata": {},
          "output_type": "display_data"
        },
        {
          "name": "stdout",
          "output_type": "stream",
          "text": [
            "{'eval_loss': 0.5444933176040649, 'eval_Acc': 0.7365, 'eval_runtime': 500.3175, 'eval_samples_per_second': 3.997, 'eval_steps_per_second': 0.016, 'epoch': 0.26}\n",
            "{'loss': 0.3974, 'learning_rate': 1.788712011577424e-05, 'epoch': 0.39}\n"
          ]
        },
        {
          "data": {
            "application/vnd.jupyter.widget-view+json": {
              "model_id": "caee2a61360c435e846d408068ce9405",
              "version_major": 2,
              "version_minor": 0
            },
            "text/plain": [
              "  0%|          | 0/8 [00:00<?, ?it/s]"
            ]
          },
          "metadata": {},
          "output_type": "display_data"
        },
        {
          "name": "stdout",
          "output_type": "stream",
          "text": [
            "{'eval_loss': 0.4272291362285614, 'eval_Acc': 0.803, 'eval_runtime': 317.6023, 'eval_samples_per_second': 6.297, 'eval_steps_per_second': 0.025, 'epoch': 0.39}\n",
            "{'loss': 0.3523, 'learning_rate': 1.6439942112879886e-05, 'epoch': 0.52}\n"
          ]
        },
        {
          "data": {
            "application/vnd.jupyter.widget-view+json": {
              "model_id": "0cd6040c3c46414a8de2e3fc94db88ea",
              "version_major": 2,
              "version_minor": 0
            },
            "text/plain": [
              "  0%|          | 0/8 [00:00<?, ?it/s]"
            ]
          },
          "metadata": {},
          "output_type": "display_data"
        },
        {
          "name": "stdout",
          "output_type": "stream",
          "text": [
            "{'eval_loss': 0.45263907313346863, 'eval_Acc': 0.808, 'eval_runtime': 223.329, 'eval_samples_per_second': 8.955, 'eval_steps_per_second': 0.036, 'epoch': 0.52}\n",
            "{'loss': 0.3029, 'learning_rate': 1.4992764109985529e-05, 'epoch': 0.65}\n"
          ]
        },
        {
          "data": {
            "application/vnd.jupyter.widget-view+json": {
              "model_id": "7b3531494baf4930a14603e3ee7043ee",
              "version_major": 2,
              "version_minor": 0
            },
            "text/plain": [
              "  0%|          | 0/8 [00:00<?, ?it/s]"
            ]
          },
          "metadata": {},
          "output_type": "display_data"
        },
        {
          "name": "stdout",
          "output_type": "stream",
          "text": [
            "{'eval_loss': 0.4268510639667511, 'eval_Acc': 0.8315, 'eval_runtime': 234.3772, 'eval_samples_per_second': 8.533, 'eval_steps_per_second': 0.034, 'epoch': 0.65}\n",
            "{'loss': 0.2821, 'learning_rate': 1.3545586107091173e-05, 'epoch': 0.78}\n"
          ]
        },
        {
          "data": {
            "application/vnd.jupyter.widget-view+json": {
              "model_id": "df844c608fb343dcba5fe0de474668a1",
              "version_major": 2,
              "version_minor": 0
            },
            "text/plain": [
              "  0%|          | 0/8 [00:00<?, ?it/s]"
            ]
          },
          "metadata": {},
          "output_type": "display_data"
        },
        {
          "name": "stdout",
          "output_type": "stream",
          "text": [
            "{'eval_loss': 0.38321831822395325, 'eval_Acc': 0.8465, 'eval_runtime': 226.0558, 'eval_samples_per_second': 8.847, 'eval_steps_per_second': 0.035, 'epoch': 0.78}\n",
            "{'loss': 0.2612, 'learning_rate': 1.2098408104196817e-05, 'epoch': 0.91}\n"
          ]
        },
        {
          "data": {
            "application/vnd.jupyter.widget-view+json": {
              "model_id": "ef6767309f304719a42922b947cafdba",
              "version_major": 2,
              "version_minor": 0
            },
            "text/plain": [
              "  0%|          | 0/8 [00:00<?, ?it/s]"
            ]
          },
          "metadata": {},
          "output_type": "display_data"
        },
        {
          "name": "stdout",
          "output_type": "stream",
          "text": [
            "{'eval_loss': 0.39128634333610535, 'eval_Acc': 0.8415, 'eval_runtime': 228.6027, 'eval_samples_per_second': 8.749, 'eval_steps_per_second': 0.035, 'epoch': 0.91}\n",
            "{'loss': 0.2263, 'learning_rate': 1.0651230101302461e-05, 'epoch': 1.04}\n"
          ]
        },
        {
          "data": {
            "application/vnd.jupyter.widget-view+json": {
              "model_id": "52891c06d4814550bd00d596d4fc144d",
              "version_major": 2,
              "version_minor": 0
            },
            "text/plain": [
              "  0%|          | 0/8 [00:00<?, ?it/s]"
            ]
          },
          "metadata": {},
          "output_type": "display_data"
        },
        {
          "name": "stdout",
          "output_type": "stream",
          "text": [
            "{'eval_loss': 0.41383057832717896, 'eval_Acc': 0.854, 'eval_runtime': 261.7073, 'eval_samples_per_second': 7.642, 'eval_steps_per_second': 0.031, 'epoch': 1.04}\n",
            "{'loss': 0.1945, 'learning_rate': 9.204052098408106e-06, 'epoch': 1.17}\n"
          ]
        },
        {
          "data": {
            "application/vnd.jupyter.widget-view+json": {
              "model_id": "83c2d2fd36cb4276b7674f71b7a946c1",
              "version_major": 2,
              "version_minor": 0
            },
            "text/plain": [
              "  0%|          | 0/8 [00:00<?, ?it/s]"
            ]
          },
          "metadata": {},
          "output_type": "display_data"
        },
        {
          "name": "stdout",
          "output_type": "stream",
          "text": [
            "{'eval_loss': 0.4029777944087982, 'eval_Acc': 0.855, 'eval_runtime': 221.5818, 'eval_samples_per_second': 9.026, 'eval_steps_per_second': 0.036, 'epoch': 1.17}\n",
            "{'loss': 0.1856, 'learning_rate': 7.756874095513748e-06, 'epoch': 1.3}\n"
          ]
        },
        {
          "data": {
            "application/vnd.jupyter.widget-view+json": {
              "model_id": "0eb8cf05ac0c4a5587ba27fdfd47bdbf",
              "version_major": 2,
              "version_minor": 0
            },
            "text/plain": [
              "  0%|          | 0/8 [00:00<?, ?it/s]"
            ]
          },
          "metadata": {},
          "output_type": "display_data"
        },
        {
          "name": "stdout",
          "output_type": "stream",
          "text": [
            "{'eval_loss': 0.3911307752132416, 'eval_Acc': 0.85, 'eval_runtime': 252.8101, 'eval_samples_per_second': 7.911, 'eval_steps_per_second': 0.032, 'epoch': 1.3}\n",
            "{'loss': 0.18, 'learning_rate': 6.3096960926193926e-06, 'epoch': 1.43}\n"
          ]
        },
        {
          "data": {
            "application/vnd.jupyter.widget-view+json": {
              "model_id": "8f84264c6094462f8517e175742c1b65",
              "version_major": 2,
              "version_minor": 0
            },
            "text/plain": [
              "  0%|          | 0/8 [00:00<?, ?it/s]"
            ]
          },
          "metadata": {},
          "output_type": "display_data"
        },
        {
          "name": "stdout",
          "output_type": "stream",
          "text": [
            "{'eval_loss': 0.39159679412841797, 'eval_Acc': 0.857, 'eval_runtime': 226.4372, 'eval_samples_per_second': 8.832, 'eval_steps_per_second': 0.035, 'epoch': 1.43}\n",
            "{'loss': 0.1773, 'learning_rate': 4.862518089725037e-06, 'epoch': 1.56}\n"
          ]
        },
        {
          "data": {
            "application/vnd.jupyter.widget-view+json": {
              "model_id": "d4c57a5ec5ca472dacbf83778407ef55",
              "version_major": 2,
              "version_minor": 0
            },
            "text/plain": [
              "  0%|          | 0/8 [00:00<?, ?it/s]"
            ]
          },
          "metadata": {},
          "output_type": "display_data"
        },
        {
          "name": "stdout",
          "output_type": "stream",
          "text": [
            "{'eval_loss': 0.39336907863616943, 'eval_Acc': 0.856, 'eval_runtime': 274.0896, 'eval_samples_per_second': 7.297, 'eval_steps_per_second': 0.029, 'epoch': 1.56}\n",
            "{'loss': 0.1731, 'learning_rate': 3.41534008683068e-06, 'epoch': 1.69}\n"
          ]
        },
        {
          "data": {
            "application/vnd.jupyter.widget-view+json": {
              "model_id": "a219c1b4fede43a5890de701051b595f",
              "version_major": 2,
              "version_minor": 0
            },
            "text/plain": [
              "  0%|          | 0/8 [00:00<?, ?it/s]"
            ]
          },
          "metadata": {},
          "output_type": "display_data"
        },
        {
          "name": "stdout",
          "output_type": "stream",
          "text": [
            "{'eval_loss': 0.3578317165374756, 'eval_Acc': 0.8585, 'eval_runtime': 433.6961, 'eval_samples_per_second': 4.612, 'eval_steps_per_second': 0.018, 'epoch': 1.69}\n",
            "{'loss': 0.1581, 'learning_rate': 1.9681620839363245e-06, 'epoch': 1.82}\n"
          ]
        },
        {
          "data": {
            "application/vnd.jupyter.widget-view+json": {
              "model_id": "699a06ee9a2b4a91898767b1ac4b7a4b",
              "version_major": 2,
              "version_minor": 0
            },
            "text/plain": [
              "  0%|          | 0/8 [00:00<?, ?it/s]"
            ]
          },
          "metadata": {},
          "output_type": "display_data"
        },
        {
          "name": "stdout",
          "output_type": "stream",
          "text": [
            "{'eval_loss': 0.41763025522232056, 'eval_Acc': 0.864, 'eval_runtime': 235.3987, 'eval_samples_per_second': 8.496, 'eval_steps_per_second': 0.034, 'epoch': 1.82}\n",
            "{'loss': 0.1672, 'learning_rate': 5.209840810419682e-07, 'epoch': 1.95}\n"
          ]
        },
        {
          "data": {
            "application/vnd.jupyter.widget-view+json": {
              "model_id": "2bf3eaf392534e5c872711c22ef8d4da",
              "version_major": 2,
              "version_minor": 0
            },
            "text/plain": [
              "  0%|          | 0/8 [00:00<?, ?it/s]"
            ]
          },
          "metadata": {},
          "output_type": "display_data"
        },
        {
          "name": "stdout",
          "output_type": "stream",
          "text": [
            "{'eval_loss': 0.3907580077648163, 'eval_Acc': 0.86, 'eval_runtime': 184.7492, 'eval_samples_per_second': 10.825, 'eval_steps_per_second': 0.043, 'epoch': 1.95}\n",
            "{'train_runtime': 23436.631, 'train_samples_per_second': 4.192, 'train_steps_per_second': 0.066, 'train_loss': 0.28946692682802677, 'epoch': 2.0}\n"
          ]
        }
      ],
      "source": [
        "# Start training\n",
        "trainer.train()\n",
        "\n",
        "trainer.save_model(f'model/')\n",
        "torch.cuda.empty_cache()"
      ]
    },
    {
      "attachments": {},
      "cell_type": "markdown",
      "metadata": {
        "id": "7vvN_rhBQh0l"
      },
      "source": [
        "## Introduce the model or methods you use here\n",
        "- GanymedeNil/text2vec-large-chinese\n",
        "- Based on the derivative model of https://huggingface.co/shibing624/text2vec-base-chinese (shibing624/text2vec-base-chinese), replace MacBERT with LERT, and keep other training conditions unchanged。  \n",
        "  \n",
        "shibing624/text2vec-base-chinese\n",
        "- This is a CoSENT(Cosine Sentence) model: shibing624/text2vec-base-chinese.\n",
        "It maps sentences to a 768 dimensional dense vector space and can be used for tasks like sentence embeddings, text matching or semantic search.\n",
        "## approximate running time:390min\n",
        "## test accuracy:0.858  \n",
        "\n",
        "## 環境\n",
        "\n",
        "|環境|名稱|版本|\n",
        "|-|-|-|\n",
        "|作業系統|Windows|11|\n",
        "|程式執行環境|jupyter notebook|6.4.12|\n",
        "|python 版本|python3|3.9.16|\n",
        "|安裝環境的方式|conda|22.9.0|\n",
        "\n",
        "|測試環境|名稱|\n",
        "|-|-|\n",
        "|主機板|Z690 AORUS ELITE|\n",
        "|處理器|Intel Core i5-13600K|\n",
        "|記憶體|crucial ballistix ddr4-3200 64G(16*4)|\n",
        "|硬碟|Acer GM7000 2 TB|\n",
        "|顯示卡|RTX 3090 ROG Strix OC 24G|\n",
        "|作業系統|Windows 11 家用版 22H2|"
      ]
    },
    {
      "cell_type": "code",
      "execution_count": 16,
      "metadata": {
        "id": "FI7wgGRbQh0l"
      },
      "outputs": [],
      "source": [
        "# TODO6: Write code to load your best model\n",
        "# Hint: You can use PyTorch to help load your model.\n",
        "# Please include your best checkpoint in your HW4 upload file (zipped).\n",
        "best_model_checkpoint = trainer.state.best_model_checkpoint\n",
        "loaded_model = AutoModelForSequenceClassification.from_pretrained(best_model_checkpoint)\n"
      ]
    },
    {
      "cell_type": "code",
      "execution_count": 17,
      "metadata": {
        "id": "JlWIST_iQh0l"
      },
      "outputs": [
        {
          "data": {
            "application/vnd.jupyter.widget-view+json": {
              "model_id": "428a87cf30034d15b1a3d76fc37d8943",
              "version_major": 2,
              "version_minor": 0
            },
            "text/plain": [
              "Map:   0%|          | 0/2000 [00:00<?, ? examples/s]"
            ]
          },
          "metadata": {},
          "output_type": "display_data"
        },
        {
          "data": {
            "application/vnd.jupyter.widget-view+json": {
              "model_id": "1ba18c5890a045b5b8c56ee47db6e12f",
              "version_major": 2,
              "version_minor": 0
            },
            "text/plain": [
              "  0%|          | 0/8 [00:00<?, ?it/s]"
            ]
          },
          "metadata": {},
          "output_type": "display_data"
        }
      ],
      "source": [
        "# Scoring cell (1)\n",
        "\n",
        "def preprocess_function(examples):\n",
        "    return tokenizer(\n",
        "        examples[\"sentence1\"],\n",
        "        examples[\"sentence2\"],\n",
        "        padding=True,\n",
        "        # truncation=True,\n",
        "    )\n",
        "\n",
        "test_df = pd.read_csv(\"x-final/zh/test_2k.tsv\", sep=\"\\t\")\n",
        "testset = Dataset.from_pandas(test_df)\n",
        "tokenized_testset = testset.map(preprocess_function, batched=True)\n",
        "\n",
        "outputs = trainer.predict(tokenized_testset)"
      ]
    },
    {
      "attachments": {},
      "cell_type": "markdown",
      "metadata": {
        "id": "OjVtMJ2UQh0l"
      },
      "source": [
        "## trainer.predict\n",
        "Returns: NamedTuple A namedtuple with the following keys:\n",
        "\n",
        "- predictions (np.ndarray): The predictions on test_dataset.\n",
        "- label_ids (np.ndarray, optional): The labels (if the dataset contained some).\n",
        "- metrics (Dict[str, float], optional): The potential dictionary of metrics (if the dataset contained labels)."
      ]
    },
    {
      "cell_type": "code",
      "execution_count": 18,
      "metadata": {
        "id": "GJ0e2OFkQh0l"
      },
      "outputs": [
        {
          "name": "stdout",
          "output_type": "stream",
          "text": [
            "Test acc:  0.858\n"
          ]
        }
      ],
      "source": [
        "# Scoring cell (2)\n",
        "\n",
        "print(\"Test acc: \", outputs.metrics[\"test_Acc\"])"
      ]
    }
  ],
  "metadata": {
    "colab": {
      "provenance": []
    },
    "kernelspec": {
      "display_name": "Python 3",
      "name": "python3"
    },
    "language_info": {
      "codemirror_mode": {
        "name": "ipython",
        "version": 3
      },
      "file_extension": ".py",
      "mimetype": "text/x-python",
      "name": "python",
      "nbconvert_exporter": "python",
      "pygments_lexer": "ipython3",
      "version": "3.8.16"
    },
    "orig_nbformat": 4,
    "vscode": {
      "interpreter": {
        "hash": "f512e43bdf8936c8a0ff235ff7574dd1b1585ef7a446d0bba8e93f3bcb392765"
      }
    },
    "widgets": {
      "application/vnd.jupyter.widget-state+json": {
        "00b136fcb9be4d04a546d95796829b81": {
          "model_module": "@jupyter-widgets/base",
          "model_module_version": "1.2.0",
          "model_name": "LayoutModel",
          "state": {
            "_model_module": "@jupyter-widgets/base",
            "_model_module_version": "1.2.0",
            "_model_name": "LayoutModel",
            "_view_count": null,
            "_view_module": "@jupyter-widgets/base",
            "_view_module_version": "1.2.0",
            "_view_name": "LayoutView",
            "align_content": null,
            "align_items": null,
            "align_self": null,
            "border": null,
            "bottom": null,
            "display": null,
            "flex": null,
            "flex_flow": null,
            "grid_area": null,
            "grid_auto_columns": null,
            "grid_auto_flow": null,
            "grid_auto_rows": null,
            "grid_column": null,
            "grid_gap": null,
            "grid_row": null,
            "grid_template_areas": null,
            "grid_template_columns": null,
            "grid_template_rows": null,
            "height": null,
            "justify_content": null,
            "justify_items": null,
            "left": null,
            "margin": null,
            "max_height": null,
            "max_width": null,
            "min_height": null,
            "min_width": null,
            "object_fit": null,
            "object_position": null,
            "order": null,
            "overflow": null,
            "overflow_x": null,
            "overflow_y": null,
            "padding": null,
            "right": null,
            "top": null,
            "visibility": null,
            "width": null
          }
        },
        "09edbb79da984b808ce0529453ebb5cd": {
          "model_module": "@jupyter-widgets/controls",
          "model_module_version": "1.5.0",
          "model_name": "DescriptionStyleModel",
          "state": {
            "_model_module": "@jupyter-widgets/controls",
            "_model_module_version": "1.5.0",
            "_model_name": "DescriptionStyleModel",
            "_view_count": null,
            "_view_module": "@jupyter-widgets/base",
            "_view_module_version": "1.2.0",
            "_view_name": "StyleView",
            "description_width": ""
          }
        },
        "10ee2ef295c5478db48b40d8d82aedda": {
          "model_module": "@jupyter-widgets/controls",
          "model_module_version": "1.5.0",
          "model_name": "DescriptionStyleModel",
          "state": {
            "_model_module": "@jupyter-widgets/controls",
            "_model_module_version": "1.5.0",
            "_model_name": "DescriptionStyleModel",
            "_view_count": null,
            "_view_module": "@jupyter-widgets/base",
            "_view_module_version": "1.2.0",
            "_view_name": "StyleView",
            "description_width": ""
          }
        },
        "112e6ece0a6644528061c39081ecb765": {
          "model_module": "@jupyter-widgets/controls",
          "model_module_version": "1.5.0",
          "model_name": "HTMLModel",
          "state": {
            "_dom_classes": [],
            "_model_module": "@jupyter-widgets/controls",
            "_model_module_version": "1.5.0",
            "_model_name": "HTMLModel",
            "_view_count": null,
            "_view_module": "@jupyter-widgets/controls",
            "_view_module_version": "1.5.0",
            "_view_name": "HTMLView",
            "description": "",
            "description_tooltip": null,
            "layout": "IPY_MODEL_23af28fdbfd6437097c62111421dc4b5",
            "placeholder": "​",
            "style": "IPY_MODEL_226b11b154c74467bac3ea2de45df9bb",
            "value": "Map: 100%"
          }
        },
        "1153dd7896c34b99b2162932ef8fb5cf": {
          "model_module": "@jupyter-widgets/controls",
          "model_module_version": "1.5.0",
          "model_name": "HBoxModel",
          "state": {
            "_dom_classes": [],
            "_model_module": "@jupyter-widgets/controls",
            "_model_module_version": "1.5.0",
            "_model_name": "HBoxModel",
            "_view_count": null,
            "_view_module": "@jupyter-widgets/controls",
            "_view_module_version": "1.5.0",
            "_view_name": "HBoxView",
            "box_style": "",
            "children": [
              "IPY_MODEL_112e6ece0a6644528061c39081ecb765",
              "IPY_MODEL_dc103e368f934fbfb25c0a02b90ceea1",
              "IPY_MODEL_158126b8743a4a92a7f5a35465822630"
            ],
            "layout": "IPY_MODEL_e76084e871de430a8c1b30fd78eddf1f"
          }
        },
        "158126b8743a4a92a7f5a35465822630": {
          "model_module": "@jupyter-widgets/controls",
          "model_module_version": "1.5.0",
          "model_name": "HTMLModel",
          "state": {
            "_dom_classes": [],
            "_model_module": "@jupyter-widgets/controls",
            "_model_module_version": "1.5.0",
            "_model_name": "HTMLModel",
            "_view_count": null,
            "_view_module": "@jupyter-widgets/controls",
            "_view_module_version": "1.5.0",
            "_view_name": "HTMLView",
            "description": "",
            "description_tooltip": null,
            "layout": "IPY_MODEL_4fd653610803469b800c04f336ac16ac",
            "placeholder": "​",
            "style": "IPY_MODEL_cf4d25198da04bc5b0861ff1f97bfc1f",
            "value": " 2000/2000 [00:00&lt;00:00, 2213.27 examples/s]"
          }
        },
        "199cfd8f29114629892887a9b1abbce2": {
          "model_module": "@jupyter-widgets/controls",
          "model_module_version": "1.5.0",
          "model_name": "DescriptionStyleModel",
          "state": {
            "_model_module": "@jupyter-widgets/controls",
            "_model_module_version": "1.5.0",
            "_model_name": "DescriptionStyleModel",
            "_view_count": null,
            "_view_module": "@jupyter-widgets/base",
            "_view_module_version": "1.2.0",
            "_view_name": "StyleView",
            "description_width": ""
          }
        },
        "226b11b154c74467bac3ea2de45df9bb": {
          "model_module": "@jupyter-widgets/controls",
          "model_module_version": "1.5.0",
          "model_name": "DescriptionStyleModel",
          "state": {
            "_model_module": "@jupyter-widgets/controls",
            "_model_module_version": "1.5.0",
            "_model_name": "DescriptionStyleModel",
            "_view_count": null,
            "_view_module": "@jupyter-widgets/base",
            "_view_module_version": "1.2.0",
            "_view_name": "StyleView",
            "description_width": ""
          }
        },
        "23af28fdbfd6437097c62111421dc4b5": {
          "model_module": "@jupyter-widgets/base",
          "model_module_version": "1.2.0",
          "model_name": "LayoutModel",
          "state": {
            "_model_module": "@jupyter-widgets/base",
            "_model_module_version": "1.2.0",
            "_model_name": "LayoutModel",
            "_view_count": null,
            "_view_module": "@jupyter-widgets/base",
            "_view_module_version": "1.2.0",
            "_view_name": "LayoutView",
            "align_content": null,
            "align_items": null,
            "align_self": null,
            "border": null,
            "bottom": null,
            "display": null,
            "flex": null,
            "flex_flow": null,
            "grid_area": null,
            "grid_auto_columns": null,
            "grid_auto_flow": null,
            "grid_auto_rows": null,
            "grid_column": null,
            "grid_gap": null,
            "grid_row": null,
            "grid_template_areas": null,
            "grid_template_columns": null,
            "grid_template_rows": null,
            "height": null,
            "justify_content": null,
            "justify_items": null,
            "left": null,
            "margin": null,
            "max_height": null,
            "max_width": null,
            "min_height": null,
            "min_width": null,
            "object_fit": null,
            "object_position": null,
            "order": null,
            "overflow": null,
            "overflow_x": null,
            "overflow_y": null,
            "padding": null,
            "right": null,
            "top": null,
            "visibility": null,
            "width": null
          }
        },
        "2efa2cc239dd4a3b9b047b75fb73b6a8": {
          "model_module": "@jupyter-widgets/base",
          "model_module_version": "1.2.0",
          "model_name": "LayoutModel",
          "state": {
            "_model_module": "@jupyter-widgets/base",
            "_model_module_version": "1.2.0",
            "_model_name": "LayoutModel",
            "_view_count": null,
            "_view_module": "@jupyter-widgets/base",
            "_view_module_version": "1.2.0",
            "_view_name": "LayoutView",
            "align_content": null,
            "align_items": null,
            "align_self": null,
            "border": null,
            "bottom": null,
            "display": null,
            "flex": null,
            "flex_flow": null,
            "grid_area": null,
            "grid_auto_columns": null,
            "grid_auto_flow": null,
            "grid_auto_rows": null,
            "grid_column": null,
            "grid_gap": null,
            "grid_row": null,
            "grid_template_areas": null,
            "grid_template_columns": null,
            "grid_template_rows": null,
            "height": null,
            "justify_content": null,
            "justify_items": null,
            "left": null,
            "margin": null,
            "max_height": null,
            "max_width": null,
            "min_height": null,
            "min_width": null,
            "object_fit": null,
            "object_position": null,
            "order": null,
            "overflow": null,
            "overflow_x": null,
            "overflow_y": null,
            "padding": null,
            "right": null,
            "top": null,
            "visibility": null,
            "width": null
          }
        },
        "2eff09a96076429ea2f3ed2f65de8b97": {
          "model_module": "@jupyter-widgets/controls",
          "model_module_version": "1.5.0",
          "model_name": "FloatProgressModel",
          "state": {
            "_dom_classes": [],
            "_model_module": "@jupyter-widgets/controls",
            "_model_module_version": "1.5.0",
            "_model_name": "FloatProgressModel",
            "_view_count": null,
            "_view_module": "@jupyter-widgets/controls",
            "_view_module_version": "1.5.0",
            "_view_name": "ProgressView",
            "bar_style": "",
            "description": "",
            "description_tooltip": null,
            "layout": "IPY_MODEL_9855904d5ac9421fb5b0c94926f13ca3",
            "max": 2000,
            "min": 0,
            "orientation": "horizontal",
            "style": "IPY_MODEL_9b0e78cae01347a6b50eebee519cac60",
            "value": 2000
          }
        },
        "2f433a5f28c04b348e7311121e0bb889": {
          "model_module": "@jupyter-widgets/base",
          "model_module_version": "1.2.0",
          "model_name": "LayoutModel",
          "state": {
            "_model_module": "@jupyter-widgets/base",
            "_model_module_version": "1.2.0",
            "_model_name": "LayoutModel",
            "_view_count": null,
            "_view_module": "@jupyter-widgets/base",
            "_view_module_version": "1.2.0",
            "_view_name": "LayoutView",
            "align_content": null,
            "align_items": null,
            "align_self": null,
            "border": null,
            "bottom": null,
            "display": null,
            "flex": null,
            "flex_flow": null,
            "grid_area": null,
            "grid_auto_columns": null,
            "grid_auto_flow": null,
            "grid_auto_rows": null,
            "grid_column": null,
            "grid_gap": null,
            "grid_row": null,
            "grid_template_areas": null,
            "grid_template_columns": null,
            "grid_template_rows": null,
            "height": null,
            "justify_content": null,
            "justify_items": null,
            "left": null,
            "margin": null,
            "max_height": null,
            "max_width": null,
            "min_height": null,
            "min_width": null,
            "object_fit": null,
            "object_position": null,
            "order": null,
            "overflow": null,
            "overflow_x": null,
            "overflow_y": null,
            "padding": null,
            "right": null,
            "top": null,
            "visibility": null,
            "width": null
          }
        },
        "31dd4845963748c68e73bb90dfb81323": {
          "model_module": "@jupyter-widgets/base",
          "model_module_version": "1.2.0",
          "model_name": "LayoutModel",
          "state": {
            "_model_module": "@jupyter-widgets/base",
            "_model_module_version": "1.2.0",
            "_model_name": "LayoutModel",
            "_view_count": null,
            "_view_module": "@jupyter-widgets/base",
            "_view_module_version": "1.2.0",
            "_view_name": "LayoutView",
            "align_content": null,
            "align_items": null,
            "align_self": null,
            "border": null,
            "bottom": null,
            "display": null,
            "flex": null,
            "flex_flow": null,
            "grid_area": null,
            "grid_auto_columns": null,
            "grid_auto_flow": null,
            "grid_auto_rows": null,
            "grid_column": null,
            "grid_gap": null,
            "grid_row": null,
            "grid_template_areas": null,
            "grid_template_columns": null,
            "grid_template_rows": null,
            "height": null,
            "justify_content": null,
            "justify_items": null,
            "left": null,
            "margin": null,
            "max_height": null,
            "max_width": null,
            "min_height": null,
            "min_width": null,
            "object_fit": null,
            "object_position": null,
            "order": null,
            "overflow": null,
            "overflow_x": null,
            "overflow_y": null,
            "padding": null,
            "right": null,
            "top": null,
            "visibility": null,
            "width": null
          }
        },
        "364a74c2a9c74eae89932ae01b624598": {
          "model_module": "@jupyter-widgets/controls",
          "model_module_version": "1.5.0",
          "model_name": "FloatProgressModel",
          "state": {
            "_dom_classes": [],
            "_model_module": "@jupyter-widgets/controls",
            "_model_module_version": "1.5.0",
            "_model_name": "FloatProgressModel",
            "_view_count": null,
            "_view_module": "@jupyter-widgets/controls",
            "_view_module_version": "1.5.0",
            "_view_name": "ProgressView",
            "bar_style": "",
            "description": "",
            "description_tooltip": null,
            "layout": "IPY_MODEL_00b136fcb9be4d04a546d95796829b81",
            "max": 49129,
            "min": 0,
            "orientation": "horizontal",
            "style": "IPY_MODEL_d18341a34daa47b7b8d311aa41a0c200",
            "value": 49129
          }
        },
        "495170e84939428b925f4d1a2f803b63": {
          "model_module": "@jupyter-widgets/base",
          "model_module_version": "1.2.0",
          "model_name": "LayoutModel",
          "state": {
            "_model_module": "@jupyter-widgets/base",
            "_model_module_version": "1.2.0",
            "_model_name": "LayoutModel",
            "_view_count": null,
            "_view_module": "@jupyter-widgets/base",
            "_view_module_version": "1.2.0",
            "_view_name": "LayoutView",
            "align_content": null,
            "align_items": null,
            "align_self": null,
            "border": null,
            "bottom": null,
            "display": null,
            "flex": null,
            "flex_flow": null,
            "grid_area": null,
            "grid_auto_columns": null,
            "grid_auto_flow": null,
            "grid_auto_rows": null,
            "grid_column": null,
            "grid_gap": null,
            "grid_row": null,
            "grid_template_areas": null,
            "grid_template_columns": null,
            "grid_template_rows": null,
            "height": null,
            "justify_content": null,
            "justify_items": null,
            "left": null,
            "margin": null,
            "max_height": null,
            "max_width": null,
            "min_height": null,
            "min_width": null,
            "object_fit": null,
            "object_position": null,
            "order": null,
            "overflow": null,
            "overflow_x": null,
            "overflow_y": null,
            "padding": null,
            "right": null,
            "top": null,
            "visibility": null,
            "width": null
          }
        },
        "4fd653610803469b800c04f336ac16ac": {
          "model_module": "@jupyter-widgets/base",
          "model_module_version": "1.2.0",
          "model_name": "LayoutModel",
          "state": {
            "_model_module": "@jupyter-widgets/base",
            "_model_module_version": "1.2.0",
            "_model_name": "LayoutModel",
            "_view_count": null,
            "_view_module": "@jupyter-widgets/base",
            "_view_module_version": "1.2.0",
            "_view_name": "LayoutView",
            "align_content": null,
            "align_items": null,
            "align_self": null,
            "border": null,
            "bottom": null,
            "display": null,
            "flex": null,
            "flex_flow": null,
            "grid_area": null,
            "grid_auto_columns": null,
            "grid_auto_flow": null,
            "grid_auto_rows": null,
            "grid_column": null,
            "grid_gap": null,
            "grid_row": null,
            "grid_template_areas": null,
            "grid_template_columns": null,
            "grid_template_rows": null,
            "height": null,
            "justify_content": null,
            "justify_items": null,
            "left": null,
            "margin": null,
            "max_height": null,
            "max_width": null,
            "min_height": null,
            "min_width": null,
            "object_fit": null,
            "object_position": null,
            "order": null,
            "overflow": null,
            "overflow_x": null,
            "overflow_y": null,
            "padding": null,
            "right": null,
            "top": null,
            "visibility": null,
            "width": null
          }
        },
        "5b5b5c052d07433b84968ebe21954b59": {
          "model_module": "@jupyter-widgets/controls",
          "model_module_version": "1.5.0",
          "model_name": "HTMLModel",
          "state": {
            "_dom_classes": [],
            "_model_module": "@jupyter-widgets/controls",
            "_model_module_version": "1.5.0",
            "_model_name": "HTMLModel",
            "_view_count": null,
            "_view_module": "@jupyter-widgets/controls",
            "_view_module_version": "1.5.0",
            "_view_name": "HTMLView",
            "description": "",
            "description_tooltip": null,
            "layout": "IPY_MODEL_a2446a1a138f4ca2a393e94b9dea79d2",
            "placeholder": "​",
            "style": "IPY_MODEL_199cfd8f29114629892887a9b1abbce2",
            "value": " 49000/49129 [00:19&lt;00:00, 2631.92 examples/s]"
          }
        },
        "69ed3fcc31c6432f9ee6cff9dac28980": {
          "model_module": "@jupyter-widgets/base",
          "model_module_version": "1.2.0",
          "model_name": "LayoutModel",
          "state": {
            "_model_module": "@jupyter-widgets/base",
            "_model_module_version": "1.2.0",
            "_model_name": "LayoutModel",
            "_view_count": null,
            "_view_module": "@jupyter-widgets/base",
            "_view_module_version": "1.2.0",
            "_view_name": "LayoutView",
            "align_content": null,
            "align_items": null,
            "align_self": null,
            "border": null,
            "bottom": null,
            "display": null,
            "flex": null,
            "flex_flow": null,
            "grid_area": null,
            "grid_auto_columns": null,
            "grid_auto_flow": null,
            "grid_auto_rows": null,
            "grid_column": null,
            "grid_gap": null,
            "grid_row": null,
            "grid_template_areas": null,
            "grid_template_columns": null,
            "grid_template_rows": null,
            "height": null,
            "justify_content": null,
            "justify_items": null,
            "left": null,
            "margin": null,
            "max_height": null,
            "max_width": null,
            "min_height": null,
            "min_width": null,
            "object_fit": null,
            "object_position": null,
            "order": null,
            "overflow": null,
            "overflow_x": null,
            "overflow_y": null,
            "padding": null,
            "right": null,
            "top": null,
            "visibility": "hidden",
            "width": null
          }
        },
        "9855904d5ac9421fb5b0c94926f13ca3": {
          "model_module": "@jupyter-widgets/base",
          "model_module_version": "1.2.0",
          "model_name": "LayoutModel",
          "state": {
            "_model_module": "@jupyter-widgets/base",
            "_model_module_version": "1.2.0",
            "_model_name": "LayoutModel",
            "_view_count": null,
            "_view_module": "@jupyter-widgets/base",
            "_view_module_version": "1.2.0",
            "_view_name": "LayoutView",
            "align_content": null,
            "align_items": null,
            "align_self": null,
            "border": null,
            "bottom": null,
            "display": null,
            "flex": null,
            "flex_flow": null,
            "grid_area": null,
            "grid_auto_columns": null,
            "grid_auto_flow": null,
            "grid_auto_rows": null,
            "grid_column": null,
            "grid_gap": null,
            "grid_row": null,
            "grid_template_areas": null,
            "grid_template_columns": null,
            "grid_template_rows": null,
            "height": null,
            "justify_content": null,
            "justify_items": null,
            "left": null,
            "margin": null,
            "max_height": null,
            "max_width": null,
            "min_height": null,
            "min_width": null,
            "object_fit": null,
            "object_position": null,
            "order": null,
            "overflow": null,
            "overflow_x": null,
            "overflow_y": null,
            "padding": null,
            "right": null,
            "top": null,
            "visibility": null,
            "width": null
          }
        },
        "9b0e78cae01347a6b50eebee519cac60": {
          "model_module": "@jupyter-widgets/controls",
          "model_module_version": "1.5.0",
          "model_name": "ProgressStyleModel",
          "state": {
            "_model_module": "@jupyter-widgets/controls",
            "_model_module_version": "1.5.0",
            "_model_name": "ProgressStyleModel",
            "_view_count": null,
            "_view_module": "@jupyter-widgets/base",
            "_view_module_version": "1.2.0",
            "_view_name": "StyleView",
            "bar_color": null,
            "description_width": ""
          }
        },
        "9b2a00eb1d7c4f27b909ea60923db8d1": {
          "model_module": "@jupyter-widgets/base",
          "model_module_version": "1.2.0",
          "model_name": "LayoutModel",
          "state": {
            "_model_module": "@jupyter-widgets/base",
            "_model_module_version": "1.2.0",
            "_model_name": "LayoutModel",
            "_view_count": null,
            "_view_module": "@jupyter-widgets/base",
            "_view_module_version": "1.2.0",
            "_view_name": "LayoutView",
            "align_content": null,
            "align_items": null,
            "align_self": null,
            "border": null,
            "bottom": null,
            "display": null,
            "flex": null,
            "flex_flow": null,
            "grid_area": null,
            "grid_auto_columns": null,
            "grid_auto_flow": null,
            "grid_auto_rows": null,
            "grid_column": null,
            "grid_gap": null,
            "grid_row": null,
            "grid_template_areas": null,
            "grid_template_columns": null,
            "grid_template_rows": null,
            "height": null,
            "justify_content": null,
            "justify_items": null,
            "left": null,
            "margin": null,
            "max_height": null,
            "max_width": null,
            "min_height": null,
            "min_width": null,
            "object_fit": null,
            "object_position": null,
            "order": null,
            "overflow": null,
            "overflow_x": null,
            "overflow_y": null,
            "padding": null,
            "right": null,
            "top": null,
            "visibility": "hidden",
            "width": null
          }
        },
        "a2446a1a138f4ca2a393e94b9dea79d2": {
          "model_module": "@jupyter-widgets/base",
          "model_module_version": "1.2.0",
          "model_name": "LayoutModel",
          "state": {
            "_model_module": "@jupyter-widgets/base",
            "_model_module_version": "1.2.0",
            "_model_name": "LayoutModel",
            "_view_count": null,
            "_view_module": "@jupyter-widgets/base",
            "_view_module_version": "1.2.0",
            "_view_name": "LayoutView",
            "align_content": null,
            "align_items": null,
            "align_self": null,
            "border": null,
            "bottom": null,
            "display": null,
            "flex": null,
            "flex_flow": null,
            "grid_area": null,
            "grid_auto_columns": null,
            "grid_auto_flow": null,
            "grid_auto_rows": null,
            "grid_column": null,
            "grid_gap": null,
            "grid_row": null,
            "grid_template_areas": null,
            "grid_template_columns": null,
            "grid_template_rows": null,
            "height": null,
            "justify_content": null,
            "justify_items": null,
            "left": null,
            "margin": null,
            "max_height": null,
            "max_width": null,
            "min_height": null,
            "min_width": null,
            "object_fit": null,
            "object_position": null,
            "order": null,
            "overflow": null,
            "overflow_x": null,
            "overflow_y": null,
            "padding": null,
            "right": null,
            "top": null,
            "visibility": null,
            "width": null
          }
        },
        "abd8ae9dab3f4912b02d64d588504912": {
          "model_module": "@jupyter-widgets/controls",
          "model_module_version": "1.5.0",
          "model_name": "ProgressStyleModel",
          "state": {
            "_model_module": "@jupyter-widgets/controls",
            "_model_module_version": "1.5.0",
            "_model_name": "ProgressStyleModel",
            "_view_count": null,
            "_view_module": "@jupyter-widgets/base",
            "_view_module_version": "1.2.0",
            "_view_name": "StyleView",
            "bar_color": null,
            "description_width": ""
          }
        },
        "b0e57bd2543641a9a1e2cdaffffc82be": {
          "model_module": "@jupyter-widgets/controls",
          "model_module_version": "1.5.0",
          "model_name": "HTMLModel",
          "state": {
            "_dom_classes": [],
            "_model_module": "@jupyter-widgets/controls",
            "_model_module_version": "1.5.0",
            "_model_name": "HTMLModel",
            "_view_count": null,
            "_view_module": "@jupyter-widgets/controls",
            "_view_module_version": "1.5.0",
            "_view_name": "HTMLView",
            "description": "",
            "description_tooltip": null,
            "layout": "IPY_MODEL_495170e84939428b925f4d1a2f803b63",
            "placeholder": "​",
            "style": "IPY_MODEL_d1bcc5d94d034f1b8adbd5df889f3982",
            "value": "Map: 100%"
          }
        },
        "bdf67aef1d1241c780bf7a7bf8bab24d": {
          "model_module": "@jupyter-widgets/controls",
          "model_module_version": "1.5.0",
          "model_name": "HBoxModel",
          "state": {
            "_dom_classes": [],
            "_model_module": "@jupyter-widgets/controls",
            "_model_module_version": "1.5.0",
            "_model_name": "HBoxModel",
            "_view_count": null,
            "_view_module": "@jupyter-widgets/controls",
            "_view_module_version": "1.5.0",
            "_view_name": "HBoxView",
            "box_style": "",
            "children": [
              "IPY_MODEL_b0e57bd2543641a9a1e2cdaffffc82be",
              "IPY_MODEL_2eff09a96076429ea2f3ed2f65de8b97",
              "IPY_MODEL_c01639fa32de49b7aa062981d2bea6da"
            ],
            "layout": "IPY_MODEL_69ed3fcc31c6432f9ee6cff9dac28980"
          }
        },
        "c01639fa32de49b7aa062981d2bea6da": {
          "model_module": "@jupyter-widgets/controls",
          "model_module_version": "1.5.0",
          "model_name": "HTMLModel",
          "state": {
            "_dom_classes": [],
            "_model_module": "@jupyter-widgets/controls",
            "_model_module_version": "1.5.0",
            "_model_name": "HTMLModel",
            "_view_count": null,
            "_view_module": "@jupyter-widgets/controls",
            "_view_module_version": "1.5.0",
            "_view_name": "HTMLView",
            "description": "",
            "description_tooltip": null,
            "layout": "IPY_MODEL_31dd4845963748c68e73bb90dfb81323",
            "placeholder": "​",
            "style": "IPY_MODEL_10ee2ef295c5478db48b40d8d82aedda",
            "value": " 2000/2000 [00:00&lt;00:00, 2192.37 examples/s]"
          }
        },
        "cf4d25198da04bc5b0861ff1f97bfc1f": {
          "model_module": "@jupyter-widgets/controls",
          "model_module_version": "1.5.0",
          "model_name": "DescriptionStyleModel",
          "state": {
            "_model_module": "@jupyter-widgets/controls",
            "_model_module_version": "1.5.0",
            "_model_name": "DescriptionStyleModel",
            "_view_count": null,
            "_view_module": "@jupyter-widgets/base",
            "_view_module_version": "1.2.0",
            "_view_name": "StyleView",
            "description_width": ""
          }
        },
        "d18341a34daa47b7b8d311aa41a0c200": {
          "model_module": "@jupyter-widgets/controls",
          "model_module_version": "1.5.0",
          "model_name": "ProgressStyleModel",
          "state": {
            "_model_module": "@jupyter-widgets/controls",
            "_model_module_version": "1.5.0",
            "_model_name": "ProgressStyleModel",
            "_view_count": null,
            "_view_module": "@jupyter-widgets/base",
            "_view_module_version": "1.2.0",
            "_view_name": "StyleView",
            "bar_color": null,
            "description_width": ""
          }
        },
        "d1bcc5d94d034f1b8adbd5df889f3982": {
          "model_module": "@jupyter-widgets/controls",
          "model_module_version": "1.5.0",
          "model_name": "DescriptionStyleModel",
          "state": {
            "_model_module": "@jupyter-widgets/controls",
            "_model_module_version": "1.5.0",
            "_model_name": "DescriptionStyleModel",
            "_view_count": null,
            "_view_module": "@jupyter-widgets/base",
            "_view_module_version": "1.2.0",
            "_view_name": "StyleView",
            "description_width": ""
          }
        },
        "dc103e368f934fbfb25c0a02b90ceea1": {
          "model_module": "@jupyter-widgets/controls",
          "model_module_version": "1.5.0",
          "model_name": "FloatProgressModel",
          "state": {
            "_dom_classes": [],
            "_model_module": "@jupyter-widgets/controls",
            "_model_module_version": "1.5.0",
            "_model_name": "FloatProgressModel",
            "_view_count": null,
            "_view_module": "@jupyter-widgets/controls",
            "_view_module_version": "1.5.0",
            "_view_name": "ProgressView",
            "bar_style": "",
            "description": "",
            "description_tooltip": null,
            "layout": "IPY_MODEL_2efa2cc239dd4a3b9b047b75fb73b6a8",
            "max": 2000,
            "min": 0,
            "orientation": "horizontal",
            "style": "IPY_MODEL_abd8ae9dab3f4912b02d64d588504912",
            "value": 2000
          }
        },
        "e71e9e3867f84506901f435a9b0c6f27": {
          "model_module": "@jupyter-widgets/controls",
          "model_module_version": "1.5.0",
          "model_name": "HTMLModel",
          "state": {
            "_dom_classes": [],
            "_model_module": "@jupyter-widgets/controls",
            "_model_module_version": "1.5.0",
            "_model_name": "HTMLModel",
            "_view_count": null,
            "_view_module": "@jupyter-widgets/controls",
            "_view_module_version": "1.5.0",
            "_view_name": "HTMLView",
            "description": "",
            "description_tooltip": null,
            "layout": "IPY_MODEL_2f433a5f28c04b348e7311121e0bb889",
            "placeholder": "​",
            "style": "IPY_MODEL_09edbb79da984b808ce0529453ebb5cd",
            "value": "Map: 100%"
          }
        },
        "e76084e871de430a8c1b30fd78eddf1f": {
          "model_module": "@jupyter-widgets/base",
          "model_module_version": "1.2.0",
          "model_name": "LayoutModel",
          "state": {
            "_model_module": "@jupyter-widgets/base",
            "_model_module_version": "1.2.0",
            "_model_name": "LayoutModel",
            "_view_count": null,
            "_view_module": "@jupyter-widgets/base",
            "_view_module_version": "1.2.0",
            "_view_name": "LayoutView",
            "align_content": null,
            "align_items": null,
            "align_self": null,
            "border": null,
            "bottom": null,
            "display": null,
            "flex": null,
            "flex_flow": null,
            "grid_area": null,
            "grid_auto_columns": null,
            "grid_auto_flow": null,
            "grid_auto_rows": null,
            "grid_column": null,
            "grid_gap": null,
            "grid_row": null,
            "grid_template_areas": null,
            "grid_template_columns": null,
            "grid_template_rows": null,
            "height": null,
            "justify_content": null,
            "justify_items": null,
            "left": null,
            "margin": null,
            "max_height": null,
            "max_width": null,
            "min_height": null,
            "min_width": null,
            "object_fit": null,
            "object_position": null,
            "order": null,
            "overflow": null,
            "overflow_x": null,
            "overflow_y": null,
            "padding": null,
            "right": null,
            "top": null,
            "visibility": "hidden",
            "width": null
          }
        },
        "f6b08f8573b24e02b04e506a3da46279": {
          "model_module": "@jupyter-widgets/controls",
          "model_module_version": "1.5.0",
          "model_name": "HBoxModel",
          "state": {
            "_dom_classes": [],
            "_model_module": "@jupyter-widgets/controls",
            "_model_module_version": "1.5.0",
            "_model_name": "HBoxModel",
            "_view_count": null,
            "_view_module": "@jupyter-widgets/controls",
            "_view_module_version": "1.5.0",
            "_view_name": "HBoxView",
            "box_style": "",
            "children": [
              "IPY_MODEL_e71e9e3867f84506901f435a9b0c6f27",
              "IPY_MODEL_364a74c2a9c74eae89932ae01b624598",
              "IPY_MODEL_5b5b5c052d07433b84968ebe21954b59"
            ],
            "layout": "IPY_MODEL_9b2a00eb1d7c4f27b909ea60923db8d1"
          }
        }
      }
    }
  },
  "nbformat": 4,
  "nbformat_minor": 0
}
